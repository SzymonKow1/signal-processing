{
 "cells": [
  {
   "cell_type": "markdown",
   "id": "471da412-7853-4239-bae1-3af7c5721219",
   "metadata": {},
   "source": [
    "# TECHNIKI PROGRAMOWANIA - projekt 3\n",
    "## Szymon Kowalski 198055\n",
    "## Sebastian Kuczera 198118\n",
    "\n",
    "### Wykorzystane biblioteki:\n",
    "- matplotplusplus (c++)\n",
    "- audiofile (c++)\n",
    "- opencv (c++)\n",
    "- pybind11 (c++)\n",
    "- standardowe biblioteki (c++)"
   ]
  },
  {
   "cell_type": "markdown",
   "id": "95204773-1fde-49e2-bbdb-734e37e30395",
   "metadata": {},
   "source": [
    "## Wizualizacja Sygnału"
   ]
  },
  {
   "cell_type": "markdown",
   "id": "44d47bb0-dbe2-4edc-878e-6b14e0ce4b95",
   "metadata": {},
   "source": [
    "### Sinus"
   ]
  },
  {
   "cell_type": "code",
   "execution_count": null,
   "id": "146ba568-227d-4847-8d3d-ae24d0799b40",
   "metadata": {},
   "outputs": [],
   "source": [
    "# Importowanie modułu\n",
    "from __future__ import annotations\n",
    "\n",
    "import signal_processing as m\n",
    "\n",
    "# Generowanie i wyświetlanie sygnału sinusoidalnego\n",
    "duration = 1.0  # czas trwania w sekundach\n",
    "frequency = 2.0  # częstotliwość w Hz\n",
    "m.sinusoidalSignal(duration, frequency)"
   ]
  },
  {
   "cell_type": "markdown",
   "id": "051b6078-b114-4b42-8c0d-911a7209e64b",
   "metadata": {},
   "source": [
    "![](./img/sin.jpg)\n",
    "\n",
    "\n"
   ]
  },
  {
   "cell_type": "markdown",
   "id": "df1aebe8-12d3-4f74-b011-9f114d435b57",
   "metadata": {},
   "source": [
    "### Cosinus"
   ]
  },
  {
   "cell_type": "code",
   "execution_count": null,
   "id": "cb106d7f-8148-45de-b62a-e6adb8193c81",
   "metadata": {},
   "outputs": [],
   "source": [
    "# Importowanie modułu\n",
    "from __future__ import annotations\n",
    "\n",
    "import signal_processing as m\n",
    "\n",
    "duration = 1.0  # czas trwania w sekundach\n",
    "frequency = 2.0  # częstotliwość w Hz\n",
    "# Generowanie i wyświetlanie sygnału cosinusoidalnego\n",
    "m.cosinusoidalSignal(duration, frequency)"
   ]
  },
  {
   "cell_type": "markdown",
   "id": "1bb0ccde-0869-4538-8747-b8df36716405",
   "metadata": {},
   "source": [
    "![](./img/cos.jpg)\n"
   ]
  },
  {
   "cell_type": "markdown",
   "id": "4e572cd2-7810-47ee-8843-7f2c082f9705",
   "metadata": {},
   "source": [
    "### Sygnał Prostokątny"
   ]
  },
  {
   "cell_type": "code",
   "execution_count": null,
   "id": "e3663223-97d2-4836-84a7-7408aa62bb58",
   "metadata": {},
   "outputs": [],
   "source": [
    "# Importowanie modułu\n",
    "from __future__ import annotations\n",
    "\n",
    "import signal_processing as m\n",
    "\n",
    "duration = 1.0  # czas trwania w sekundach\n",
    "frequency = 2.0  # częstotliwość w Hz\n",
    "# Generowanie i wyświetlanie sygnału prostokątnego\n",
    "m.squareWaveSignal(duration, frequency)"
   ]
  },
  {
   "cell_type": "markdown",
   "id": "079c9434-6bd8-4c80-a6e0-54f176c5372e",
   "metadata": {},
   "source": [
    "![](./img/square.jpg)\n"
   ]
  },
  {
   "cell_type": "markdown",
   "id": "5b38e9ee-a283-49ad-a8de-5687f71d5ec3",
   "metadata": {},
   "source": [
    "### Sygnał Piłowy"
   ]
  },
  {
   "cell_type": "code",
   "execution_count": null,
   "id": "9a479133-5c77-4757-b981-48f7148eff89",
   "metadata": {},
   "outputs": [],
   "source": [
    "# Importowanie modułu\n",
    "from __future__ import annotations\n",
    "\n",
    "import signal_processing as m\n",
    "\n",
    "duration = 1.0  # czas trwania w sekundach\n",
    "frequency = 2.0  # częstotliwość w Hz\n",
    "# Generowanie i wyświetlanie sygnału piłokształtnego\n",
    "m.sawtoothWaveSignal(duration, frequency)"
   ]
  },
  {
   "cell_type": "markdown",
   "id": "6487585e-5548-4547-8cff-26dbe183e031",
   "metadata": {},
   "source": [
    "![](./img/sawtooth.jpg)\n"
   ]
  },
  {
   "cell_type": "markdown",
   "id": "6f2200f5-4c3e-46e1-85fe-faf30a552b7b",
   "metadata": {},
   "source": [
    "## Wizualizacja Sygnału Pliku Audio"
   ]
  },
  {
   "cell_type": "code",
   "execution_count": null,
   "id": "f5bfdb7c-601d-4975-9fce-c2362f0bcb89",
   "metadata": {},
   "outputs": [],
   "source": [
    "from __future__ import annotations\n",
    "\n",
    "import signal_processing as m\n",
    "length = 500 # zakres wyświetlania od 0 do \"length\"\n",
    "file = \"test1.wav\" # nazwa pliku audio\n",
    "\n",
    "m.visualizeAudio(length, file) \n"
   ]
  },
  {
   "cell_type": "markdown",
   "id": "d440a363-cf28-4a79-82c7-3caacec5ddbc",
   "metadata": {},
   "source": [
    "![](./img/audio_visualization.jpg)"
   ]
  },
  {
   "cell_type": "markdown",
   "id": "20dd2b06-4e6f-41fe-b7b3-0f420640fcfa",
   "metadata": {},
   "source": [
    "## Interpolacja Dwuliniowa w Siatce"
   ]
  },
  {
   "cell_type": "code",
   "execution_count": null,
   "id": "24e9c6d9-2992-4e3d-b0f3-8f58af0dff84",
   "metadata": {},
   "outputs": [],
   "source": [
    "from __future__ import annotations\n",
    "\n",
    "import signal_processing as m\n",
    "width = 1200 # szerokość wyskalowanego obrazu \n",
    "heigth = 800 # wysokość wyskalowanego obrazu\n",
    "file = \"test2.jpg\" # nazwa pliku \n",
    "\n",
    "m.bilinear_interpolation(width, heigth, file) \n"
   ]
  },
  {
   "cell_type": "markdown",
   "id": "02625b7c-99cb-49cc-b32f-22e9bea3b04b",
   "metadata": {},
   "source": [
    "### Obraz Oryginalny"
   ]
  },
  {
   "cell_type": "markdown",
   "id": "db4f96e1-f2dc-4b08-a4eb-9669f24ccf6d",
   "metadata": {},
   "source": [
    "![](./img/original.jpg)"
   ]
  },
  {
   "cell_type": "markdown",
   "id": "77c07cef-30ae-48e6-bc25-136d36ddb20b",
   "metadata": {},
   "source": [
    "### Obraz Wyskalowany"
   ]
  },
  {
   "cell_type": "markdown",
   "id": "9ea651bb-e1f8-45cc-8fbf-dcdf27ae92b9",
   "metadata": {},
   "source": [
    "![](./img/scaled.jpg)"
   ]
  },
  {
   "cell_type": "markdown",
   "id": "27aec8d3-2d5b-46d7-b8d1-401c56993a42",
   "metadata": {},
   "source": [
    "## Filtracja 1D oraz 2D"
   ]
  },
  {
   "cell_type": "code",
   "execution_count": null,
   "id": "cfb576ec-9bf4-4318-98a5-80b844c8749f",
   "metadata": {},
   "outputs": [],
   "source": [
    "from __future__ import annotations\n",
    "\n",
    "import signal_processing as m\n",
    "file = \"test2.jpg\" # nazwa pliku\n",
    "\n",
    "m.signal_filtration(file)\n"
   ]
  },
  {
   "cell_type": "markdown",
   "id": "32f90002-717f-4934-be53-80862768423d",
   "metadata": {},
   "source": [
    "### Obraz oryginalny"
   ]
  },
  {
   "cell_type": "markdown",
   "id": "66cde0ab-d275-4c45-8c5c-3cec6318fee9",
   "metadata": {},
   "source": [
    "![](./img/root.jpg)"
   ]
  },
  {
   "cell_type": "markdown",
   "id": "2db7ecd6-440b-44ca-ae24-25db600d7fd6",
   "metadata": {},
   "source": [
    "### Obraz wyostrzony\n",
    "Zastosowano filtrację 2D"
   ]
  },
  {
   "cell_type": "markdown",
   "id": "aeacfb01-c5f4-4bf6-945a-3369504268c6",
   "metadata": {},
   "source": [
    "![](./img/sharpenedSrc.jpg)"
   ]
  },
  {
   "cell_type": "markdown",
   "id": "a1d4bc65-3e68-446b-a44d-e54d5f88a46d",
   "metadata": {},
   "source": [
    "### Obraz z zastosowanym efektem Blur\n",
    "Zastosowano filtrację 1D"
   ]
  },
  {
   "cell_type": "markdown",
   "id": "5955dd5c-ad4f-4de7-9c43-56ac98a144e4",
   "metadata": {},
   "source": [
    "![](./img/bluredSrc.jpg)"
   ]
  },
  {
   "cell_type": "markdown",
   "id": "bc801715-183f-4414-810b-60609bb2e9b4",
   "metadata": {},
   "source": [
    "### Obraz z niestandardowym efetem \n",
    "Zastosowano filtrację 1D"
   ]
  },
  {
   "cell_type": "markdown",
   "id": "b43b3530-0585-465d-9abe-07bcef97a932",
   "metadata": {},
   "source": [
    "![](./img/redSrc.jpg)"
   ]
  }
 ],
 "metadata": {
  "kernelspec": {
   "display_name": "test",
   "language": "python",
   "name": "test"
  },
  "language_info": {
   "codemirror_mode": {
    "name": "ipython",
    "version": 3
   },
   "file_extension": ".py",
   "mimetype": "text/x-python",
   "name": "python",
   "nbconvert_exporter": "python",
   "pygments_lexer": "ipython3",
   "version": "3.8.19"
  }
 },
 "nbformat": 4,
 "nbformat_minor": 5
}
